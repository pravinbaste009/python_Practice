{
 "cells": [
  {
   "cell_type": "raw",
   "id": "7a3eeebb",
   "metadata": {},
   "source": [
    "1. Write a Python program to print the following string in a specific format (see the output). Go to the editor\n",
    "Sample String : \"Twinkle, twinkle, little star, How I wonder what you are! Up above the world so high, Like a diamond in the sky. Twinkle, twinkle, little star, How I wonder what you are\" Output :\n",
    "\n",
    "Twinkle, twinkle, little star,\n",
    "\tHow I wonder what you are! \n",
    "\t\tUp above the world so high,   \t\t\n",
    "\t\tLike a diamond in the sky. \n",
    "Twinkle, twinkle, little star, \n",
    "\tHow I wonder what you are\n",
    ".\n"
   ]
  },
  {
   "cell_type": "code",
   "execution_count": 11,
   "id": "ea0fe428",
   "metadata": {},
   "outputs": [
    {
     "name": "stdout",
     "output_type": "stream",
     "text": [
      "Twinkle, twinkle, little star,\n",
      " \t How I wonder what you are! \n",
      " \t \t Up above the world so high, \n",
      " \t \t Like a diamond in the sky. \n",
      " Twinkle, twinkle, little star,\n",
      " \t How I wonder what you are\n"
     ]
    }
   ],
   "source": [
    "print('Twinkle, twinkle, little star,\\n \\t How I wonder what you are! \\n \\t \\t Up above the world so high, \\n \\t \\t Like a diamond in the sky. \\n Twinkle, twinkle, little star,\\n \\t How I wonder what you are')"
   ]
  },
  {
   "cell_type": "raw",
   "id": "ec3f67d1",
   "metadata": {},
   "source": [
    "2. Write a Python program to get the Python version you are using. "
   ]
  },
  {
   "cell_type": "code",
   "execution_count": 14,
   "id": "c30b609f",
   "metadata": {},
   "outputs": [
    {
     "name": "stdout",
     "output_type": "stream",
     "text": [
      "3.7.10 (default, Feb 26 2021, 13:06:18) [MSC v.1916 64 bit (AMD64)]\n",
      "sys.version_info(major=3, minor=7, micro=10, releaselevel='final', serial=0)\n"
     ]
    }
   ],
   "source": [
    "import sys\n",
    "print(sys.version)\n",
    "print (sys.version_info)"
   ]
  },
  {
   "cell_type": "raw",
   "id": "ab380aae",
   "metadata": {},
   "source": [
    "3. Write a Python program to display the current date and time."
   ]
  },
  {
   "cell_type": "code",
   "execution_count": 18,
   "id": "faa84979",
   "metadata": {},
   "outputs": [
    {
     "name": "stdout",
     "output_type": "stream",
     "text": [
      "2021-05-26 11:53:20.174251\n"
     ]
    }
   ],
   "source": [
    "import datetime\n",
    "now = datetime.datetime.now()\n",
    "print(now)"
   ]
  },
  {
   "cell_type": "raw",
   "id": "b6549e4a",
   "metadata": {},
   "source": [
    "4. Write a Python program which accepts the radius of a circle from the user and compute the area."
   ]
  },
  {
   "cell_type": "code",
   "execution_count": 24,
   "id": "0f757af7",
   "metadata": {},
   "outputs": [
    {
     "name": "stdout",
     "output_type": "stream",
     "text": [
      "Enter the radius:  4\n",
      "Area of circle:  50.24\n"
     ]
    }
   ],
   "source": [
    "# area of circle = pi*(radius*radius)\n",
    "pi = 3.14\n",
    "radius = float(input('Enter the radius:  '))\n",
    "area =pi * (radius*radius)\n",
    "print('Area of circle: ', area)"
   ]
  },
  {
   "cell_type": "raw",
   "id": "9977ee46",
   "metadata": {},
   "source": [
    "5. Write a Python program which accepts the users first and last name and print them in reverse order with a space between them."
   ]
  },
  {
   "cell_type": "code",
   "execution_count": 28,
   "id": "dca9f94c",
   "metadata": {},
   "outputs": [
    {
     "name": "stdout",
     "output_type": "stream",
     "text": [
      "Enter first name :pravin\n",
      "Enter last name : baste\n",
      "baste pravin\n"
     ]
    }
   ],
   "source": [
    "first = input('Enter first name :')\n",
    "last = input('Enter last name : ')\n",
    "print(last, first)"
   ]
  },
  {
   "cell_type": "raw",
   "id": "676b7c5c",
   "metadata": {},
   "source": [
    "6. Write a Python program which accepts a sequence of comma-separated numbers from user and generate a list and a tuple with those numbers."
   ]
  },
  {
   "cell_type": "code",
   "execution_count": 36,
   "id": "984d8a8f",
   "metadata": {},
   "outputs": [
    {
     "name": "stdout",
     "output_type": "stream",
     "text": [
      "Enter the number: 1,2,3,4\n",
      "list:  ['1', '2', '3', '4']\n",
      "tuple:  ('1', '2', '3', '4')\n"
     ]
    }
   ],
   "source": [
    "# accepts a sequence of comma-separated\n",
    "seq =input('Enter the number: ')\n",
    "list = seq.split(',')\n",
    "print('list: ',list)\n",
    "Num_tuple = tuple(list)\n",
    "print('tuple: ',Num_tuple)"
   ]
  },
  {
   "cell_type": "markdown",
   "id": "83417f39",
   "metadata": {},
   "source": [
    " "
   ]
  },
  {
   "cell_type": "raw",
   "id": "80bfbba5",
   "metadata": {},
   "source": [
    "7. Write a Python program to accept a filename from the user and print the extension of that."
   ]
  },
  {
   "cell_type": "code",
   "execution_count": 37,
   "id": "a0564549",
   "metadata": {},
   "outputs": [
    {
     "name": "stdout",
     "output_type": "stream",
     "text": [
      "Ener the name: abc.doc\n",
      "('name', ['abc', 'doc'])\n"
     ]
    }
   ],
   "source": [
    "file = input('Ener the name: ')\n",
    "ext=file.split('.')\n",
    "list = ('name',ext)"
   ]
  },
  {
   "cell_type": "raw",
   "id": "b820768d",
   "metadata": {},
   "source": [
    "8. Write a Python program to display the first and last colors from the following list. \n"
   ]
  },
  {
   "cell_type": "code",
   "execution_count": 15,
   "id": "fff9cea5",
   "metadata": {},
   "outputs": [
    {
     "name": "stdout",
     "output_type": "stream",
     "text": [
      " first element is Red and last element is Black\n"
     ]
    }
   ],
   "source": [
    "color_list = [\"Red\",\"Green\",\"White\" ,\"Black\"]\n",
    "index = len(color_list)\n",
    "first = color_list[0]\n",
    "last = color_list[index-1]\n",
    "print(' first element is {} and last element is {}'.format (first,last))"
   ]
  },
  {
   "cell_type": "raw",
   "id": "34093fd1",
   "metadata": {},
   "source": [
    "9. Write a Python program to display the examination schedule. (extract the date from exam_st_date). Go to the editor\n",
    "exam_st_date = (11, 12, 2014)\n"
   ]
  },
  {
   "cell_type": "code",
   "execution_count": 19,
   "id": "d5a5af35",
   "metadata": {},
   "outputs": [
    {
     "name": "stdout",
     "output_type": "stream",
     "text": [
      "12 / 12 / 2021\n"
     ]
    }
   ],
   "source": [
    "data = (12,12,2021)\n",
    "print('%i / %i / %i' %data)"
   ]
  },
  {
   "cell_type": "raw",
   "id": "1f7e3668",
   "metadata": {},
   "source": [
    "10. Write a Python program that accepts an integer (n) and computes the value of n+nn+nnn. Go to the editor\n",
    "Sample value of n is 5\n",
    "Expected Result : 615\n"
   ]
  },
  {
   "cell_type": "code",
   "execution_count": 37,
   "id": "f9c69739",
   "metadata": {},
   "outputs": [
    {
     "name": "stdout",
     "output_type": "stream",
     "text": [
      "Input an integer : 5\n",
      "615\n"
     ]
    }
   ],
   "source": [
    "a = int(input(\"Input an integer : \"))\n",
    "n1 = int( \"%s\" % a )\n",
    "n2 = int( \"%s%s\" % (a,a) )\n",
    "n3 = int( \"%s%s%s\" % (a,a,a) )\n",
    "print (n1+n2+n3)"
   ]
  },
  {
   "cell_type": "raw",
   "id": "09507ef7",
   "metadata": {},
   "source": [
    "11. Write a Python program to print the documents (syntax, description etc.) of Python built-in function(s).\n",
    "Sample function : abs()\n",
    "Expected Result :\n",
    "abs(number) -> number\n",
    "Return the absolute value of the argument.\n",
    "Click me to see the sample solution"
   ]
  },
  {
   "cell_type": "code",
   "execution_count": 39,
   "id": "bd9f919f",
   "metadata": {},
   "outputs": [
    {
     "name": "stdout",
     "output_type": "stream",
     "text": [
      "Input an integer : -12\n",
      "12\n"
     ]
    }
   ],
   "source": [
    "a = int(input(\"Input an integer : \"))\n",
    "print(abs(a))"
   ]
  },
  {
   "cell_type": "raw",
   "id": "bda498be",
   "metadata": {},
   "source": [
    "12. Write a Python program to print the calendar of a given month and year.\n"
   ]
  },
  {
   "cell_type": "code",
   "execution_count": 44,
   "id": "268c4e3a",
   "metadata": {},
   "outputs": [
    {
     "name": "stdout",
     "output_type": "stream",
     "text": [
      "Input the year : 2021\n",
      "Input the month : 5\n",
      "      May 2021\n",
      "Mo Tu We Th Fr Sa Su\n",
      "                1  2\n",
      " 3  4  5  6  7  8  9\n",
      "10 11 12 13 14 15 16\n",
      "17 18 19 20 21 22 23\n",
      "24 25 26 27 28 29 30\n",
      "31\n",
      "\n"
     ]
    }
   ],
   "source": [
    "import calendar\n",
    "y = int(input(\"Input the year : \"))\n",
    "m = int(input(\"Input the month : \"))\n",
    "print(calendar.month(y, m))"
   ]
  },
  {
   "cell_type": "raw",
   "id": "1c3f0961",
   "metadata": {},
   "source": [
    "13. Write a Python program to print the following 'here document'. Go to the editor\n",
    "Sample string :\n",
    "a string that you \"don't\" have to escape\n",
    "This\n",
    "is a ....... multi-line\n",
    "heredoc string --------> example"
   ]
  },
  {
   "cell_type": "code",
   "execution_count": 45,
   "id": "c35fed2f",
   "metadata": {},
   "outputs": [
    {
     "name": "stdout",
     "output_type": "stream",
     "text": [
      "\n",
      "a string that you \"don't\" have to escape\n",
      "This\n",
      "is a  ....... multi-line\n",
      "heredoc string --------> example\n",
      "\n"
     ]
    }
   ],
   "source": [
    "print(\"\"\"\n",
    "a string that you \"don't\" have to escape\n",
    "This\n",
    "is a  ....... multi-line\n",
    "heredoc string --------> example\n",
    "\"\"\")"
   ]
  },
  {
   "cell_type": "raw",
   "id": "7b8d0f13",
   "metadata": {},
   "source": [
    "14. Write a Python program to calculate number of days between two dates.\n",
    "Sample dates : (2014, 7, 2), (2014, 7, 11)\n",
    "Expected output : 9 days\n",
    "Click me to see the sample solution"
   ]
  },
  {
   "cell_type": "code",
   "execution_count": 46,
   "id": "b28f1066",
   "metadata": {},
   "outputs": [
    {
     "name": "stdout",
     "output_type": "stream",
     "text": [
      "9\n"
     ]
    }
   ],
   "source": [
    "from datetime import date\n",
    "f_date = date(2014, 7, 2)\n",
    "l_date = date(2014, 7, 11)\n",
    "delta = l_date - f_date\n",
    "print(delta.days)"
   ]
  },
  {
   "cell_type": "raw",
   "id": "7c4869c2",
   "metadata": {},
   "source": [
    "15. Write a Python program to get the volume of a sphere with radius 6.\n",
    "Click me to see the sample solution\n",
    "voloume of sphere = 4/3*pi*r^3"
   ]
  },
  {
   "cell_type": "code",
   "execution_count": 48,
   "id": "22f67f96",
   "metadata": {},
   "outputs": [
    {
     "name": "stdout",
     "output_type": "stream",
     "text": [
      "904.3199999999998\n"
     ]
    }
   ],
   "source": [
    "pi = 3.14\n",
    "r = 6\n",
    "VOS= (4/3)*pi*r*r*r\n",
    "print(VOS)\n"
   ]
  },
  {
   "cell_type": "raw",
   "id": "811f7ef5",
   "metadata": {},
   "source": [
    "16. Write a Python program to get the difference between a given number and 17, if the number is greater than 17 return double the absolute difference. Go to the editor\n",
    "Click me to see the sample solution"
   ]
  },
  {
   "cell_type": "code",
   "execution_count": 56,
   "id": "0405e67c",
   "metadata": {},
   "outputs": [
    {
     "name": "stdout",
     "output_type": "stream",
     "text": [
      "Enter the first num : 10\n",
      "Enter the Second num : 12\n",
      "2\n"
     ]
    }
   ],
   "source": [
    "first_num=int(input('Enter the first num : '))\n",
    "second_num=int(input('Enter the Second num : '))\n",
    "diff = first_num-second_num\n",
    "if diff > 17:\n",
    "    print(abs(diff*2))\n",
    "else:\n",
    "    print(abs(diff))"
   ]
  },
  {
   "cell_type": "raw",
   "id": "939142e0",
   "metadata": {},
   "source": [
    "17. Write a Python program to test whether a number is within 100 of 1000 or 2000"
   ]
  },
  {
   "cell_type": "code",
   "execution_count": 57,
   "id": "68d2c609",
   "metadata": {},
   "outputs": [
    {
     "name": "stdout",
     "output_type": "stream",
     "text": [
      "True\n",
      "True\n",
      "False\n",
      "False\n"
     ]
    }
   ],
   "source": [
    "def near_thousand(n):\n",
    "      return ((abs(1000 - n) <= 100) or (abs(2000 - n) <= 100))\n",
    "print(near_thousand(1000))\n",
    "print(near_thousand(900))\n",
    "print(near_thousand(800))   \n",
    "print(near_thousand(2200))"
   ]
  },
  {
   "cell_type": "code",
   "execution_count": 58,
   "id": "dcc058db",
   "metadata": {},
   "outputs": [
    {
     "data": {
      "text/plain": [
       "False"
      ]
     },
     "execution_count": 58,
     "metadata": {},
     "output_type": "execute_result"
    }
   ],
   "source": [
    "near_thousand(100)"
   ]
  },
  {
   "cell_type": "raw",
   "id": "a60a48b9",
   "metadata": {},
   "source": [
    "18. Write a Python program to calculate the sum of three given numbers, if the values are equal then return three times of their sum."
   ]
  },
  {
   "cell_type": "code",
   "execution_count": 63,
   "id": "b265f56b",
   "metadata": {},
   "outputs": [
    {
     "name": "stdout",
     "output_type": "stream",
     "text": [
      " first number :  2\n",
      " second number :  3\n",
      " third number :  5\n",
      "10\n"
     ]
    }
   ],
   "source": [
    "a = int(input(' first number :  '))\n",
    "b = int(input(' second number :  '))\n",
    "c = int(input(' third number :  '))\n",
    "if (a==b) or (b==c) or (a==c):\n",
    "    out = 3*(a+b+c)\n",
    "    print(out)\n",
    "else:\n",
    "    print(a+b+c)"
   ]
  },
  {
   "cell_type": "raw",
   "id": "e27626c7",
   "metadata": {},
   "source": [
    "19. Write a Python program to get a new string from a given string where \"Is\" has been added to the front. If the given string already begins with \"Is\" then return the string unchanged."
   ]
  },
  {
   "cell_type": "code",
   "execution_count": 78,
   "id": "9ca76fa3",
   "metadata": {},
   "outputs": [
    {
     "name": "stdout",
     "output_type": "stream",
     "text": [
      "Enter you string:  pravin\n",
      "is pravin\n"
     ]
    }
   ],
   "source": [
    "string= input('Enter you string:  ')\n",
    "word = string.split(' ')\n",
    "word_list=list(word)\n",
    "if (word_list[0]== 'is'):\n",
    "    print(string)\n",
    "else:\n",
    "    print( '{} {}'.format('is',string))"
   ]
  },
  {
   "cell_type": "raw",
   "id": "04f13dc9",
   "metadata": {},
   "source": [
    "20. Write a Python program to get a string which is n (non-negative integer) copies of a given string."
   ]
  },
  {
   "cell_type": "code",
   "execution_count": 108,
   "id": "5f1b5d2f",
   "metadata": {},
   "outputs": [],
   "source": [
    "def larger_string(str, n):\n",
    "    result = \"\"\n",
    "    for i in range(n):\n",
    "        result = result + str\n",
    "    return result\n",
    "    \n",
    "    \n",
    "     \n",
    "    \n",
    "    \n"
   ]
  },
  {
   "cell_type": "code",
   "execution_count": 109,
   "id": "30087147",
   "metadata": {},
   "outputs": [
    {
     "data": {
      "text/plain": [
       "'pravinpravin'"
      ]
     },
     "execution_count": 109,
     "metadata": {},
     "output_type": "execute_result"
    }
   ],
   "source": [
    "larger_string('pravin', 2)"
   ]
  },
  {
   "cell_type": "raw",
   "id": "47b99df1",
   "metadata": {},
   "source": [
    "21. Write a Python program to find whether a given number (accept from the user) is even or odd, print out an appropriate message to the user."
   ]
  },
  {
   "cell_type": "code",
   "execution_count": 114,
   "id": "4e127ddd",
   "metadata": {},
   "outputs": [
    {
     "name": "stdout",
     "output_type": "stream",
     "text": [
      "Enter the Number: 3\n",
      "Number is ODD\n"
     ]
    }
   ],
   "source": [
    "num =int(input('Enter the Number: '))\n",
    "if num%2==0:\n",
    "    print('Number is EVEN')\n",
    "else:\n",
    "    print('Number is ODD')\n"
   ]
  },
  {
   "cell_type": "raw",
   "id": "02d7aa9f",
   "metadata": {},
   "source": [
    "22. Write a Python program to count the number 4 in a given list."
   ]
  },
  {
   "cell_type": "code",
   "execution_count": 131,
   "id": "2ef87681",
   "metadata": {},
   "outputs": [
    {
     "name": "stdout",
     "output_type": "stream",
     "text": [
      "3\n"
     ]
    }
   ],
   "source": [
    "count = 0\n",
    "num = [4,3,5,4,4,6,7]\n",
    "for i in num:\n",
    "    if i==4:\n",
    "        count +=1\n",
    "print(count)\n",
    "\n",
    "    "
   ]
  },
  {
   "cell_type": "raw",
   "id": "3fb9800f",
   "metadata": {},
   "source": [
    "23. Write a Python program to get the n (non-negative integer) copies of the first 2 characters of a given string. Return the n copies of the whole string if the length is less than 2"
   ]
  },
  {
   "cell_type": "code",
   "execution_count": 18,
   "id": "7f88951c",
   "metadata": {},
   "outputs": [
    {
     "name": "stdout",
     "output_type": "stream",
     "text": [
      "ab\n",
      "p\n"
     ]
    }
   ],
   "source": [
    "def substring_copy(str, n):\n",
    "    flen = 2\n",
    "    if flen > len(str):\n",
    "        flen = len(str)\n",
    "    substr = str[:flen]\n",
    "  \n",
    "    result = \"\"\n",
    "    for i in range(n):\n",
    "        result = result + substr\n",
    "        return result\n",
    "print(substring_copy('abcdef', 2))\n",
    "print(substring_copy('p', 3));\n"
   ]
  },
  {
   "cell_type": "code",
   "execution_count": 38,
   "id": "3313c2b7",
   "metadata": {},
   "outputs": [],
   "source": [
    "def string(str,n):\n",
    "    flen = 2\n",
    "    if flen > len(str):\n",
    "        flen = len(str)\n",
    "    sub =str[:flen]\n",
    "    result = ''\n",
    "    for i in range(n):\n",
    "        result = result + sub\n",
    "        \n",
    "        return result\n"
   ]
  },
  {
   "cell_type": "code",
   "execution_count": 39,
   "id": "25683bc3",
   "metadata": {},
   "outputs": [
    {
     "data": {
      "text/plain": [
       "'pr'"
      ]
     },
     "execution_count": 39,
     "metadata": {},
     "output_type": "execute_result"
    }
   ],
   "source": [
    "string('pravin',2)"
   ]
  },
  {
   "cell_type": "code",
   "execution_count": 41,
   "id": "4dcb9ee3",
   "metadata": {},
   "outputs": [
    {
     "data": {
      "text/plain": [
       "'p'"
      ]
     },
     "execution_count": 41,
     "metadata": {},
     "output_type": "execute_result"
    }
   ],
   "source": [
    "string('p',2)"
   ]
  },
  {
   "cell_type": "code",
   "execution_count": null,
   "id": "e4cbbd53",
   "metadata": {},
   "outputs": [],
   "source": []
  }
 ],
 "metadata": {
  "kernelspec": {
   "display_name": "Python 3",
   "language": "python",
   "name": "python3"
  },
  "language_info": {
   "codemirror_mode": {
    "name": "ipython",
    "version": 3
   },
   "file_extension": ".py",
   "mimetype": "text/x-python",
   "name": "python",
   "nbconvert_exporter": "python",
   "pygments_lexer": "ipython3",
   "version": "3.7.10"
  }
 },
 "nbformat": 4,
 "nbformat_minor": 5
}
