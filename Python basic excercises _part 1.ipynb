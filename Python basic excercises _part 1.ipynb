{
 "cells": [
  {
   "cell_type": "raw",
   "id": "7a3eeebb",
   "metadata": {},
   "source": [
    "1. Write a Python program to print the following string in a specific format (see the output). Go to the editor\n",
    "Sample String : \"Twinkle, twinkle, little star, How I wonder what you are! Up above the world so high, Like a diamond in the sky. Twinkle, twinkle, little star, How I wonder what you are\" Output :\n",
    "\n",
    "Twinkle, twinkle, little star,\n",
    "\tHow I wonder what you are! \n",
    "\t\tUp above the world so high,   \t\t\n",
    "\t\tLike a diamond in the sky. \n",
    "Twinkle, twinkle, little star, \n",
    "\tHow I wonder what you are\n",
    ".\n"
   ]
  },
  {
   "cell_type": "code",
   "execution_count": 11,
   "id": "ea0fe428",
   "metadata": {},
   "outputs": [
    {
     "name": "stdout",
     "output_type": "stream",
     "text": [
      "Twinkle, twinkle, little star,\n",
      " \t How I wonder what you are! \n",
      " \t \t Up above the world so high, \n",
      " \t \t Like a diamond in the sky. \n",
      " Twinkle, twinkle, little star,\n",
      " \t How I wonder what you are\n"
     ]
    }
   ],
   "source": [
    "print('Twinkle, twinkle, little star,\\n \\t How I wonder what you are! \\n \\t \\t Up above the world so high, \\n \\t \\t Like a diamond in the sky. \\n Twinkle, twinkle, little star,\\n \\t How I wonder what you are')"
   ]
  },
  {
   "cell_type": "raw",
   "id": "ec3f67d1",
   "metadata": {},
   "source": [
    "2. Write a Python program to get the Python version you are using. "
   ]
  },
  {
   "cell_type": "code",
   "execution_count": 14,
   "id": "c30b609f",
   "metadata": {},
   "outputs": [
    {
     "name": "stdout",
     "output_type": "stream",
     "text": [
      "3.7.10 (default, Feb 26 2021, 13:06:18) [MSC v.1916 64 bit (AMD64)]\n",
      "sys.version_info(major=3, minor=7, micro=10, releaselevel='final', serial=0)\n"
     ]
    }
   ],
   "source": [
    "import sys\n",
    "print(sys.version)\n",
    "print (sys.version_info)"
   ]
  },
  {
   "cell_type": "raw",
   "id": "ab380aae",
   "metadata": {},
   "source": [
    "3. Write a Python program to display the current date and time."
   ]
  },
  {
   "cell_type": "code",
   "execution_count": 18,
   "id": "faa84979",
   "metadata": {},
   "outputs": [
    {
     "name": "stdout",
     "output_type": "stream",
     "text": [
      "2021-05-26 11:53:20.174251\n"
     ]
    }
   ],
   "source": [
    "import datetime\n",
    "now = datetime.datetime.now()\n",
    "print(now)"
   ]
  },
  {
   "cell_type": "raw",
   "id": "b6549e4a",
   "metadata": {},
   "source": [
    "4. Write a Python program which accepts the radius of a circle from the user and compute the area."
   ]
  },
  {
   "cell_type": "code",
   "execution_count": 24,
   "id": "0f757af7",
   "metadata": {},
   "outputs": [
    {
     "name": "stdout",
     "output_type": "stream",
     "text": [
      "Enter the radius:  4\n",
      "Area of circle:  50.24\n"
     ]
    }
   ],
   "source": [
    "# area of circle = pi*(radius*radius)\n",
    "pi = 3.14\n",
    "radius = float(input('Enter the radius:  '))\n",
    "area =pi * (radius*radius)\n",
    "print('Area of circle: ', area)"
   ]
  },
  {
   "cell_type": "raw",
   "id": "9977ee46",
   "metadata": {},
   "source": [
    "5. Write a Python program which accepts the users first and last name and print them in reverse order with a space between them."
   ]
  },
  {
   "cell_type": "code",
   "execution_count": 28,
   "id": "dca9f94c",
   "metadata": {},
   "outputs": [
    {
     "name": "stdout",
     "output_type": "stream",
     "text": [
      "Enter first name :pravin\n",
      "Enter last name : baste\n",
      "baste pravin\n"
     ]
    }
   ],
   "source": [
    "first = input('Enter first name :')\n",
    "last = input('Enter last name : ')\n",
    "print(last, first)"
   ]
  },
  {
   "cell_type": "raw",
   "id": "676b7c5c",
   "metadata": {},
   "source": [
    "6. Write a Python program which accepts a sequence of comma-separated numbers from user and generate a list and a tuple with those numbers."
   ]
  },
  {
   "cell_type": "code",
   "execution_count": 36,
   "id": "984d8a8f",
   "metadata": {},
   "outputs": [
    {
     "name": "stdout",
     "output_type": "stream",
     "text": [
      "Enter the number: 1,2,3,4\n",
      "list:  ['1', '2', '3', '4']\n",
      "tuple:  ('1', '2', '3', '4')\n"
     ]
    }
   ],
   "source": [
    "# accepts a sequence of comma-separated\n",
    "seq =input('Enter the number: ')\n",
    "list = seq.split(',')\n",
    "print('list: ',list)\n",
    "Num_tuple = tuple(list)\n",
    "print('tuple: ',Num_tuple)"
   ]
  },
  {
   "cell_type": "markdown",
   "id": "83417f39",
   "metadata": {},
   "source": [
    " "
   ]
  },
  {
   "cell_type": "raw",
   "id": "80bfbba5",
   "metadata": {},
   "source": [
    "7. Write a Python program to accept a filename from the user and print the extension of that."
   ]
  },
  {
   "cell_type": "code",
   "execution_count": 37,
   "id": "a0564549",
   "metadata": {},
   "outputs": [
    {
     "name": "stdout",
     "output_type": "stream",
     "text": [
      "Ener the name: abc.doc\n",
      "('name', ['abc', 'doc'])\n"
     ]
    }
   ],
   "source": [
    "file = input('Ener the name: ')\n",
    "ext=file.split('.')\n",
    "list = ('name',ext)"
   ]
  },
  {
   "cell_type": "raw",
   "id": "33888f2b",
   "metadata": {},
   "source": [
    "8. Write a Python program to display the first and last colors from the following list. \n"
   ]
  },
  {
   "cell_type": "code",
   "execution_count": 15,
   "id": "fff9cea5",
   "metadata": {},
   "outputs": [
    {
     "name": "stdout",
     "output_type": "stream",
     "text": [
      " first element is Red and last element is Black\n"
     ]
    }
   ],
   "source": [
    "color_list = [\"Red\",\"Green\",\"White\" ,\"Black\"]\n",
    "index = len(color_list)\n",
    "first = color_list[0]\n",
    "last = color_list[index-1]\n",
    "print(' first element is {} and last element is {}'.format (first,last))"
   ]
  },
  {
   "cell_type": "raw",
   "id": "404f2058",
   "metadata": {},
   "source": [
    "9. Write a Python program to display the examination schedule. (extract the date from exam_st_date). Go to the editor\n",
    "exam_st_date = (11, 12, 2014)\n"
   ]
  },
  {
   "cell_type": "code",
   "execution_count": 19,
   "id": "d5a5af35",
   "metadata": {},
   "outputs": [
    {
     "name": "stdout",
     "output_type": "stream",
     "text": [
      "12 / 12 / 2021\n"
     ]
    }
   ],
   "source": [
    "data = (12,12,2021)\n",
    "print('%i / %i / %i' %data)"
   ]
  },
  {
   "cell_type": "raw",
   "id": "c47ef9ca",
   "metadata": {},
   "source": [
    "10. Write a Python program that accepts an integer (n) and computes the value of n+nn+nnn. Go to the editor\n",
    "Sample value of n is 5\n",
    "Expected Result : 615\n"
   ]
  },
  {
   "cell_type": "code",
   "execution_count": 37,
   "id": "17b5e9ab",
   "metadata": {},
   "outputs": [
    {
     "name": "stdout",
     "output_type": "stream",
     "text": [
      "Input an integer : 5\n",
      "615\n"
     ]
    }
   ],
   "source": [
    "a = int(input(\"Input an integer : \"))\n",
    "n1 = int( \"%s\" % a )\n",
    "n2 = int( \"%s%s\" % (a,a) )\n",
    "n3 = int( \"%s%s%s\" % (a,a,a) )\n",
    "print (n1+n2+n3)"
   ]
  },
  {
   "cell_type": "raw",
   "id": "46ddb861",
   "metadata": {},
   "source": [
    "11. Write a Python program to print the documents (syntax, description etc.) of Python built-in function(s).\n",
    "Sample function : abs()\n",
    "Expected Result :\n",
    "abs(number) -> number\n",
    "Return the absolute value of the argument.\n",
    "Click me to see the sample solution"
   ]
  },
  {
   "cell_type": "code",
   "execution_count": 39,
   "id": "dd3084eb",
   "metadata": {},
   "outputs": [
    {
     "name": "stdout",
     "output_type": "stream",
     "text": [
      "Input an integer : -12\n",
      "12\n"
     ]
    }
   ],
   "source": [
    "a = int(input(\"Input an integer : \"))\n",
    "print(abs(a))"
   ]
  },
  {
   "cell_type": "raw",
   "id": "68281a6f",
   "metadata": {},
   "source": [
    "12. Write a Python program to print the calendar of a given month and year.\n"
   ]
  },
  {
   "cell_type": "code",
   "execution_count": 44,
   "id": "40dac88e",
   "metadata": {},
   "outputs": [
    {
     "name": "stdout",
     "output_type": "stream",
     "text": [
      "Input the year : 2021\n",
      "Input the month : 5\n",
      "      May 2021\n",
      "Mo Tu We Th Fr Sa Su\n",
      "                1  2\n",
      " 3  4  5  6  7  8  9\n",
      "10 11 12 13 14 15 16\n",
      "17 18 19 20 21 22 23\n",
      "24 25 26 27 28 29 30\n",
      "31\n",
      "\n"
     ]
    }
   ],
   "source": [
    "import calendar\n",
    "y = int(input(\"Input the year : \"))\n",
    "m = int(input(\"Input the month : \"))\n",
    "print(calendar.month(y, m))"
   ]
  },
  {
   "cell_type": "raw",
   "id": "6377fb8e",
   "metadata": {},
   "source": [
    "13. Write a Python program to print the following 'here document'. Go to the editor\n",
    "Sample string :\n",
    "a string that you \"don't\" have to escape\n",
    "This\n",
    "is a ....... multi-line\n",
    "heredoc string --------> example"
   ]
  },
  {
   "cell_type": "code",
   "execution_count": 45,
   "id": "db62ce8a",
   "metadata": {},
   "outputs": [
    {
     "name": "stdout",
     "output_type": "stream",
     "text": [
      "\n",
      "a string that you \"don't\" have to escape\n",
      "This\n",
      "is a  ....... multi-line\n",
      "heredoc string --------> example\n",
      "\n"
     ]
    }
   ],
   "source": [
    "print(\"\"\"\n",
    "a string that you \"don't\" have to escape\n",
    "This\n",
    "is a  ....... multi-line\n",
    "heredoc string --------> example\n",
    "\"\"\")"
   ]
  },
  {
   "cell_type": "raw",
   "id": "4e9c9f44",
   "metadata": {},
   "source": [
    "14. Write a Python program to calculate number of days between two dates.\n",
    "Sample dates : (2014, 7, 2), (2014, 7, 11)\n",
    "Expected output : 9 days\n",
    "Click me to see the sample solution"
   ]
  },
  {
   "cell_type": "code",
   "execution_count": 46,
   "id": "4be5dbb2",
   "metadata": {},
   "outputs": [
    {
     "name": "stdout",
     "output_type": "stream",
     "text": [
      "9\n"
     ]
    }
   ],
   "source": [
    "from datetime import date\n",
    "f_date = date(2014, 7, 2)\n",
    "l_date = date(2014, 7, 11)\n",
    "delta = l_date - f_date\n",
    "print(delta.days)"
   ]
  },
  {
   "cell_type": "raw",
   "id": "f344ac5d",
   "metadata": {},
   "source": [
    "15. Write a Python program to get the volume of a sphere with radius 6.\n",
    "Click me to see the sample solution\n",
    "voloume of sphere = 4/3*pi*r^3"
   ]
  },
  {
   "cell_type": "code",
   "execution_count": 48,
   "id": "74ee3b3d",
   "metadata": {},
   "outputs": [
    {
     "name": "stdout",
     "output_type": "stream",
     "text": [
      "904.3199999999998\n"
     ]
    }
   ],
   "source": [
    "pi = 3.14\n",
    "r = 6\n",
    "VOS= (4/3)*pi*r*r*r\n",
    "print(VOS)\n"
   ]
  },
  {
   "cell_type": "raw",
   "id": "6ffc560e",
   "metadata": {},
   "source": [
    "16. Write a Python program to get the difference between a given number and 17, if the number is greater than 17 return double the absolute difference. Go to the editor\n",
    "Click me to see the sample solution"
   ]
  },
  {
   "cell_type": "code",
   "execution_count": 56,
   "id": "3cddeec4",
   "metadata": {},
   "outputs": [
    {
     "name": "stdout",
     "output_type": "stream",
     "text": [
      "Enter the first num : 10\n",
      "Enter the Second num : 12\n",
      "2\n"
     ]
    }
   ],
   "source": [
    "first_num=int(input('Enter the first num : '))\n",
    "second_num=int(input('Enter the Second num : '))\n",
    "diff = first_num-second_num\n",
    "if diff > 17:\n",
    "    print(abs(diff*2))\n",
    "else:\n",
    "    print(abs(diff))"
   ]
  },
  {
   "cell_type": "raw",
   "id": "df2da632",
   "metadata": {},
   "source": [
    "17. Write a Python program to test whether a number is within 100 of 1000 or 2000"
   ]
  },
  {
   "cell_type": "code",
   "execution_count": 57,
   "id": "ea525bb6",
   "metadata": {},
   "outputs": [
    {
     "name": "stdout",
     "output_type": "stream",
     "text": [
      "True\n",
      "True\n",
      "False\n",
      "False\n"
     ]
    }
   ],
   "source": [
    "def near_thousand(n):\n",
    "      return ((abs(1000 - n) <= 100) or (abs(2000 - n) <= 100))\n",
    "print(near_thousand(1000))\n",
    "print(near_thousand(900))\n",
    "print(near_thousand(800))   \n",
    "print(near_thousand(2200))"
   ]
  },
  {
   "cell_type": "code",
   "execution_count": 58,
   "id": "e2d64e76",
   "metadata": {},
   "outputs": [
    {
     "data": {
      "text/plain": [
       "False"
      ]
     },
     "execution_count": 58,
     "metadata": {},
     "output_type": "execute_result"
    }
   ],
   "source": [
    "near_thousand(100)"
   ]
  },
  {
   "cell_type": "raw",
   "id": "09e4cff2",
   "metadata": {},
   "source": [
    "18. Write a Python program to calculate the sum of three given numbers, if the values are equal then return three times of their sum."
   ]
  },
  {
   "cell_type": "code",
   "execution_count": 63,
   "id": "4bc26d01",
   "metadata": {},
   "outputs": [
    {
     "name": "stdout",
     "output_type": "stream",
     "text": [
      " first number :  2\n",
      " second number :  3\n",
      " third number :  5\n",
      "10\n"
     ]
    }
   ],
   "source": [
    "a = int(input(' first number :  '))\n",
    "b = int(input(' second number :  '))\n",
    "c = int(input(' third number :  '))\n",
    "if (a==b) or (b==c) or (a==c):\n",
    "    out = 3*(a+b+c)\n",
    "    print(out)\n",
    "else:\n",
    "    print(a+b+c)"
   ]
  },
  {
   "cell_type": "code",
   "execution_count": null,
   "id": "c5b52c0b",
   "metadata": {},
   "outputs": [],
   "source": []
  },
  {
   "cell_type": "code",
   "execution_count": null,
   "id": "a0a73081",
   "metadata": {},
   "outputs": [],
   "source": []
  },
  {
   "cell_type": "code",
   "execution_count": null,
   "id": "a6b61114",
   "metadata": {},
   "outputs": [],
   "source": []
  }
 ],
 "metadata": {
  "kernelspec": {
   "display_name": "Python 3",
   "language": "python",
   "name": "python3"
  },
  "language_info": {
   "codemirror_mode": {
    "name": "ipython",
    "version": 3
   },
   "file_extension": ".py",
   "mimetype": "text/x-python",
   "name": "python",
   "nbconvert_exporter": "python",
   "pygments_lexer": "ipython3",
   "version": "3.7.10"
  }
 },
 "nbformat": 4,
 "nbformat_minor": 5
}
